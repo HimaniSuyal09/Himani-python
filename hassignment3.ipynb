{
 "cells": [
  {
   "cell_type": "code",
   "execution_count": 1,
   "id": "73b53179-d20e-4ac3-95d3-53e26caef570",
   "metadata": {},
   "outputs": [],
   "source": [
    "#1 \n",
    "#Keyword used to create function is -def\n",
    "#Create a function to return a list of odd numbers in the range of 1 to 25."
   ]
  },
  {
   "cell_type": "code",
   "execution_count": 24,
   "id": "99a8a899-0efb-45f9-b157-0d3be23d7a2c",
   "metadata": {},
   "outputs": [],
   "source": [
    " def odd_no():\n",
    "    for i in range(26):\n",
    "        if i%2!=0:\n",
    "            yield(i)"
   ]
  },
  {
   "cell_type": "code",
   "execution_count": 26,
   "id": "f05e5f5f-7606-46d2-b735-c62f94128b82",
   "metadata": {},
   "outputs": [
    {
     "name": "stdout",
     "output_type": "stream",
     "text": [
      "[1, 3, 5, 7, 9, 11, 13, 15, 17, 19, 21, 23, 25]\n"
     ]
    }
   ],
   "source": [
    "print (list(odd_no()))"
   ]
  },
  {
   "cell_type": "code",
   "execution_count": 11,
   "id": "3c0a1ff4-fa37-497f-bdde-1e229e0e6793",
   "metadata": {},
   "outputs": [],
   "source": [
    "#2\n",
    "# *args and **kwargs"
   ]
  },
  {
   "cell_type": "code",
   "execution_count": 13,
   "id": "8a0c85fd-abbd-43b8-84eb-3a91300bba01",
   "metadata": {},
   "outputs": [],
   "source": [
    "# *args is used to give multi;ple inputs in a function\n",
    "def inte(*args):\n",
    "    return args"
   ]
  },
  {
   "cell_type": "code",
   "execution_count": 14,
   "id": "7e81fddb-af26-4963-a67f-0e64fd84497e",
   "metadata": {},
   "outputs": [
    {
     "data": {
      "text/plain": [
       "(3, 5)"
      ]
     },
     "execution_count": 14,
     "metadata": {},
     "output_type": "execute_result"
    }
   ],
   "source": [
    "inte(3,5)"
   ]
  },
  {
   "cell_type": "code",
   "execution_count": 15,
   "id": "8f72446b-a109-4529-b154-359e34a5cc09",
   "metadata": {},
   "outputs": [],
   "source": [
    "# **kwargs is used to give multiple inputsin key value pair or in dictionary format."
   ]
  },
  {
   "cell_type": "code",
   "execution_count": 16,
   "id": "c4d73f26-07c3-4cda-852f-aeb73f4821d9",
   "metadata": {},
   "outputs": [],
   "source": [
    "def dec(**kwargs):\n",
    "    return kwargs"
   ]
  },
  {
   "cell_type": "code",
   "execution_count": 18,
   "id": "6df3ccaa-1c5c-4375-bb09-d9b483d5603b",
   "metadata": {},
   "outputs": [
    {
     "data": {
      "text/plain": [
       "{'a': 3, 'f': [1, 4, 5], 'd': (1, 2, 3, 6)}"
      ]
     },
     "execution_count": 18,
     "metadata": {},
     "output_type": "execute_result"
    }
   ],
   "source": [
    "dec(a=3 ,f=[1,4,5] ,d=(1,2,3,6,))"
   ]
  },
  {
   "cell_type": "code",
   "execution_count": 24,
   "id": "b9537d2d-1b5a-4e0c-96f6-d90eda061907",
   "metadata": {},
   "outputs": [],
   "source": [
    "### 3 \"\"\"What is an iterator in python? Name the method used to initialise the iterator object and the method\n",
    "#used for iteration. Use these methods to print the first five elements of the given list [2, 4, 6, 8, 10, 12, 14,\n",
    " #16, 18, 20].\"\"\""
   ]
  },
  {
   "cell_type": "code",
   "execution_count": 27,
   "id": "4bc24814-fe01-4133-9ddb-ccc43d2b7014",
   "metadata": {},
   "outputs": [],
   "source": [
    "#iterator is an object in python where next method is defined and we are able to fetch the next element of a iterable object.\n",
    "# iter method is used to initialise the iterator object.\n",
    "l1=[2, 4, 6, 8, 10, 12, 14, 16, 18, 20]\n"
   ]
  },
  {
   "cell_type": "code",
   "execution_count": 43,
   "id": "338c76d4-8d61-4cba-a226-f8a6a262c191",
   "metadata": {},
   "outputs": [
    {
     "data": {
      "text/plain": [
       "list"
      ]
     },
     "execution_count": 43,
     "metadata": {},
     "output_type": "execute_result"
    }
   ],
   "source": [
    "l2 = iter(l1)\n",
    "type(l1)"
   ]
  },
  {
   "cell_type": "code",
   "execution_count": 44,
   "id": "c4d8c052-f6fc-4368-a4ae-3e5021b6234f",
   "metadata": {},
   "outputs": [
    {
     "data": {
      "text/plain": [
       "2"
      ]
     },
     "execution_count": 44,
     "metadata": {},
     "output_type": "execute_result"
    }
   ],
   "source": [
    "next(l2)"
   ]
  },
  {
   "cell_type": "code",
   "execution_count": 45,
   "id": "59aa4f74-e7b6-4440-ad05-907569a4030b",
   "metadata": {},
   "outputs": [
    {
     "data": {
      "text/plain": [
       "4"
      ]
     },
     "execution_count": 45,
     "metadata": {},
     "output_type": "execute_result"
    }
   ],
   "source": [
    "next(l2)"
   ]
  },
  {
   "cell_type": "code",
   "execution_count": 46,
   "id": "a85396a8-0cd2-4370-a80c-049eefd49ef6",
   "metadata": {},
   "outputs": [
    {
     "data": {
      "text/plain": [
       "6"
      ]
     },
     "execution_count": 46,
     "metadata": {},
     "output_type": "execute_result"
    }
   ],
   "source": [
    "next(l2)"
   ]
  },
  {
   "cell_type": "code",
   "execution_count": 47,
   "id": "373a3f0e-413d-4be1-981f-3a86d49bbcbd",
   "metadata": {},
   "outputs": [
    {
     "data": {
      "text/plain": [
       "8"
      ]
     },
     "execution_count": 47,
     "metadata": {},
     "output_type": "execute_result"
    }
   ],
   "source": [
    "next(l2)"
   ]
  },
  {
   "cell_type": "code",
   "execution_count": 49,
   "id": "d4cfb5a6-1e1b-4109-990a-4079f3932b15",
   "metadata": {},
   "outputs": [
    {
     "data": {
      "text/plain": [
       "10"
      ]
     },
     "execution_count": 49,
     "metadata": {},
     "output_type": "execute_result"
    }
   ],
   "source": [
    "next(l2)"
   ]
  },
  {
   "cell_type": "code",
   "execution_count": 51,
   "id": "d52b47fb-3ad7-40b5-9437-20242174fb63",
   "metadata": {},
   "outputs": [],
   "source": [
    "#Q4. What is a generator function in python? Why yield keyword is used? Give an example of a generator function."
   ]
  },
  {
   "cell_type": "code",
   "execution_count": 75,
   "id": "20017d4d-17ae-4e26-b690-1fb0b853ba68",
   "metadata": {},
   "outputs": [],
   "source": [
    "def sqr(a):\n",
    "    for i in range(a):\n",
    "        i = i**2\n",
    "        yield i\n",
    "    "
   ]
  },
  {
   "cell_type": "code",
   "execution_count": 96,
   "id": "2b0c470a-53b0-4e2f-bc1e-e4c7e42f9378",
   "metadata": {},
   "outputs": [
    {
     "data": {
      "text/plain": [
       "<generator object sqr at 0x7f1df82a7a70>"
      ]
     },
     "execution_count": 96,
     "metadata": {},
     "output_type": "execute_result"
    }
   ],
   "source": [
    "sqr(4)"
   ]
  },
  {
   "cell_type": "code",
   "execution_count": 97,
   "id": "831d0777-7a1f-4f76-b17b-eb59d7f62b7b",
   "metadata": {},
   "outputs": [],
   "source": [
    "for i in sqr(4):\n",
    "    y=list(sqr(i))"
   ]
  },
  {
   "cell_type": "code",
   "execution_count": 98,
   "id": "19883423-94bd-44df-a3d1-a19dd42360ab",
   "metadata": {},
   "outputs": [
    {
     "data": {
      "text/plain": [
       "[0, 1, 4, 9, 16, 25, 36, 49, 64]"
      ]
     },
     "execution_count": 98,
     "metadata": {},
     "output_type": "execute_result"
    }
   ],
   "source": [
    "y"
   ]
  },
  {
   "cell_type": "code",
   "execution_count": 10,
   "id": "e0476e35-d1ae-47dc-8eef-c8f730d5d17e",
   "metadata": {},
   "outputs": [],
   "source": [
    "# Q5. Create a generator function for prime numbers less than 1000. Use the next() method to print the\n",
    "# first 20 prime numbers."
   ]
  },
  {
   "cell_type": "code",
   "execution_count": 48,
   "id": "afdc6953-1ae9-466f-9a61-e6a9814220fe",
   "metadata": {},
   "outputs": [],
   "source": [
    "def prime():\n",
    "    for i in list (range(2,1000)):\n",
    "        for j in list(range(2,i)):\n",
    "            if (i%j==0):\n",
    "                break\n",
    "            else:\n",
    "                yield i"
   ]
  },
  {
   "cell_type": "code",
   "execution_count": 49,
   "id": "eae29679-dd43-47f4-9847-9767fbbffef4",
   "metadata": {},
   "outputs": [],
   "source": [
    "h=list(prime())"
   ]
  },
  {
   "cell_type": "code",
   "execution_count": 52,
   "id": "8a71185d-3ccd-48bb-9eba-727a4a01f8e9",
   "metadata": {},
   "outputs": [],
   "source": [
    "q=iter(h)"
   ]
  },
  {
   "cell_type": "code",
   "execution_count": 53,
   "id": "81b5918e-164b-4aac-95a5-3e4682cb908a",
   "metadata": {},
   "outputs": [
    {
     "name": "stdout",
     "output_type": "stream",
     "text": [
      "3\n",
      "5\n",
      "5\n",
      "5\n",
      "7\n",
      "7\n",
      "7\n",
      "7\n",
      "7\n",
      "9\n",
      "11\n",
      "11\n",
      "11\n",
      "11\n",
      "11\n",
      "11\n",
      "11\n",
      "11\n",
      "11\n",
      "13\n"
     ]
    }
   ],
   "source": [
    "i=0\n",
    "while i<20:\n",
    "    print(next(q))\n",
    "    i=i+1"
   ]
  },
  {
   "cell_type": "code",
   "execution_count": 47,
   "id": "d8502941-a666-45b4-beaa-60089e4c2495",
   "metadata": {},
   "outputs": [],
   "source": [
    "#Q6. Write a python program to print the first 10 Fibonacci numbers using a while loop."
   ]
  },
  {
   "cell_type": "code",
   "execution_count": null,
   "id": "40336c65-045b-47bb-8722-19dd3a9944a3",
   "metadata": {},
   "outputs": [],
   "source": []
  }
 ],
 "metadata": {
  "kernelspec": {
   "display_name": "Python 3 (ipykernel)",
   "language": "python",
   "name": "python3"
  },
  "language_info": {
   "codemirror_mode": {
    "name": "ipython",
    "version": 3
   },
   "file_extension": ".py",
   "mimetype": "text/x-python",
   "name": "python",
   "nbconvert_exporter": "python",
   "pygments_lexer": "ipython3",
   "version": "3.10.8"
  }
 },
 "nbformat": 4,
 "nbformat_minor": 5
}
