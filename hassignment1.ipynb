{
 "cells": [
  {
   "cell_type": "code",
   "execution_count": 3,
   "id": "6b70555d-7144-41eb-9cb3-358f05f37d57",
   "metadata": {},
   "outputs": [],
   "source": [
    "#1i\n",
    "a=\"morning\""
   ]
  },
  {
   "cell_type": "code",
   "execution_count": 5,
   "id": "900f0207-5fb1-4a87-8fd1-cbadfdfa3e48",
   "metadata": {},
   "outputs": [
    {
     "data": {
      "text/plain": [
       "str"
      ]
     },
     "execution_count": 5,
     "metadata": {},
     "output_type": "execute_result"
    }
   ],
   "source": [
    "type(a)"
   ]
  },
  {
   "cell_type": "code",
   "execution_count": 6,
   "id": "e583b480-7c74-475b-ab95-0f50979cbb4e",
   "metadata": {},
   "outputs": [],
   "source": [
    "#1ii\n",
    "l=[1,4,'wish']"
   ]
  },
  {
   "cell_type": "code",
   "execution_count": 7,
   "id": "b179a3ce-bfa3-4b01-8be7-ea145aebc50b",
   "metadata": {},
   "outputs": [
    {
     "data": {
      "text/plain": [
       "list"
      ]
     },
     "execution_count": 7,
     "metadata": {},
     "output_type": "execute_result"
    }
   ],
   "source": [
    "type(l)"
   ]
  },
  {
   "cell_type": "code",
   "execution_count": 8,
   "id": "8b66ee79-2e3a-4980-97cf-362ad4ec7fc1",
   "metadata": {},
   "outputs": [],
   "source": [
    "#1iii\n",
    "f=24.607"
   ]
  },
  {
   "cell_type": "code",
   "execution_count": 9,
   "id": "f86fefc1-a875-41c2-b1b2-af39f48ded94",
   "metadata": {},
   "outputs": [
    {
     "data": {
      "text/plain": [
       "float"
      ]
     },
     "execution_count": 9,
     "metadata": {},
     "output_type": "execute_result"
    }
   ],
   "source": [
    "type(f)"
   ]
  },
  {
   "cell_type": "code",
   "execution_count": 10,
   "id": "08839107-9914-4037-91eb-6d230600b7dc",
   "metadata": {},
   "outputs": [],
   "source": [
    "#1iv\n",
    "t=(4,6,89.70,'king')"
   ]
  },
  {
   "cell_type": "code",
   "execution_count": 11,
   "id": "9989ffa1-c1cf-4d5f-af25-ae4f0e5a66ac",
   "metadata": {},
   "outputs": [
    {
     "data": {
      "text/plain": [
       "(4, 6, 89.7, 'king')"
      ]
     },
     "execution_count": 11,
     "metadata": {},
     "output_type": "execute_result"
    }
   ],
   "source": [
    "t"
   ]
  },
  {
   "cell_type": "code",
   "execution_count": 12,
   "id": "ce337817-b589-4076-957c-2d670c305377",
   "metadata": {},
   "outputs": [
    {
     "data": {
      "text/plain": [
       "tuple"
      ]
     },
     "execution_count": 12,
     "metadata": {},
     "output_type": "execute_result"
    }
   ],
   "source": [
    "type(t)"
   ]
  },
  {
   "cell_type": "code",
   "execution_count": 13,
   "id": "86db7217-9dac-45d2-915c-283b26243359",
   "metadata": {},
   "outputs": [],
   "source": [
    "#2i\n",
    "var1=''"
   ]
  },
  {
   "cell_type": "code",
   "execution_count": 14,
   "id": "bf37bea5-37cd-4e59-ab31-d0947820621c",
   "metadata": {},
   "outputs": [
    {
     "data": {
      "text/plain": [
       "str"
      ]
     },
     "execution_count": 14,
     "metadata": {},
     "output_type": "execute_result"
    }
   ],
   "source": [
    "type(var1)"
   ]
  },
  {
   "cell_type": "code",
   "execution_count": 19,
   "id": "3e6fa46d-aa3c-439c-bb1e-34a781ce254e",
   "metadata": {},
   "outputs": [],
   "source": [
    "#2iii\n",
    "var3=['ds','ml','python']"
   ]
  },
  {
   "cell_type": "code",
   "execution_count": 20,
   "id": "17f6ac43-2656-4b58-b156-00790f879c6f",
   "metadata": {},
   "outputs": [
    {
     "data": {
      "text/plain": [
       "list"
      ]
     },
     "execution_count": 20,
     "metadata": {},
     "output_type": "execute_result"
    }
   ],
   "source": [
    "type(var3)"
   ]
  },
  {
   "cell_type": "code",
   "execution_count": 21,
   "id": "6e15c27b-525c-4a30-837e-228f5246848b",
   "metadata": {},
   "outputs": [],
   "source": [
    "#2ii\n",
    "var2='[ds,ml,python]'"
   ]
  },
  {
   "cell_type": "code",
   "execution_count": 22,
   "id": "a76ea8cb-0807-4140-be7f-6a41202ce74d",
   "metadata": {},
   "outputs": [
    {
     "data": {
      "text/plain": [
       "str"
      ]
     },
     "execution_count": 22,
     "metadata": {},
     "output_type": "execute_result"
    }
   ],
   "source": [
    "type(var2)"
   ]
  },
  {
   "cell_type": "code",
   "execution_count": 23,
   "id": "1780235a-91dc-472f-be7e-85a7086fd4f5",
   "metadata": {},
   "outputs": [],
   "source": [
    "#2iv\n",
    "var4=1"
   ]
  },
  {
   "cell_type": "code",
   "execution_count": 24,
   "id": "5d675703-5271-45fc-9051-0bd6fa7ad676",
   "metadata": {},
   "outputs": [
    {
     "data": {
      "text/plain": [
       "int"
      ]
     },
     "execution_count": 24,
     "metadata": {},
     "output_type": "execute_result"
    }
   ],
   "source": [
    "type(var4)"
   ]
  },
  {
   "cell_type": "code",
   "execution_count": 25,
   "id": "161ca233-0cc2-4571-bba0-93676841f306",
   "metadata": {},
   "outputs": [],
   "source": [
    "#3\n",
    "p=5/2\n",
    "#gives the quotient after division"
   ]
  },
  {
   "cell_type": "code",
   "execution_count": 26,
   "id": "6dc679c0-d075-4d7c-85f5-f3244b143d92",
   "metadata": {},
   "outputs": [
    {
     "data": {
      "text/plain": [
       "2.5"
      ]
     },
     "execution_count": 26,
     "metadata": {},
     "output_type": "execute_result"
    }
   ],
   "source": [
    "p"
   ]
  },
  {
   "cell_type": "code",
   "execution_count": 27,
   "id": "73e5f022-90bc-496c-8250-430ae83a9856",
   "metadata": {},
   "outputs": [],
   "source": [
    "#3ii\n",
    "q=5%2\n",
    "#it gives remainder after divisionS"
   ]
  },
  {
   "cell_type": "code",
   "execution_count": 28,
   "id": "647aa482-f0b0-4591-a5cd-9f50fbfbadf5",
   "metadata": {},
   "outputs": [
    {
     "data": {
      "text/plain": [
       "1"
      ]
     },
     "execution_count": 28,
     "metadata": {},
     "output_type": "execute_result"
    }
   ],
   "source": [
    "q"
   ]
  },
  {
   "cell_type": "code",
   "execution_count": 29,
   "id": "8faac4c3-8174-4875-9627-9f57669704d5",
   "metadata": {},
   "outputs": [],
   "source": [
    "#3iii\n",
    "a=5//2\n",
    "#gives only real part of quotient"
   ]
  },
  {
   "cell_type": "code",
   "execution_count": 30,
   "id": "31b70711-3304-4766-a3ee-46b3a23e5425",
   "metadata": {},
   "outputs": [
    {
     "data": {
      "text/plain": [
       "2"
      ]
     },
     "execution_count": 30,
     "metadata": {},
     "output_type": "execute_result"
    }
   ],
   "source": [
    "a"
   ]
  },
  {
   "cell_type": "code",
   "execution_count": 33,
   "id": "9361f260-13ed-4dd5-b423-906a1c5f5d81",
   "metadata": {},
   "outputs": [],
   "source": [
    "#3iv\n",
    "b=5**4\n",
    "#take next no.as power"
   ]
  },
  {
   "cell_type": "code",
   "execution_count": 34,
   "id": "0c8d006d-671a-4147-9af3-2d40d828c667",
   "metadata": {},
   "outputs": [
    {
     "data": {
      "text/plain": [
       "625"
      ]
     },
     "execution_count": 34,
     "metadata": {},
     "output_type": "execute_result"
    }
   ],
   "source": [
    "b"
   ]
  },
  {
   "cell_type": "code",
   "execution_count": 35,
   "id": "de5a77aa-775a-46bd-b804-846bec547ee8",
   "metadata": {},
   "outputs": [],
   "source": [
    "#4\n",
    "l1=[34,56,5,47,'shiv',38.05,23.48,12,83,'rose']"
   ]
  },
  {
   "cell_type": "code",
   "execution_count": 39,
   "id": "27e370c0-613c-415f-8129-cd0855ac8407",
   "metadata": {},
   "outputs": [
    {
     "name": "stdout",
     "output_type": "stream",
     "text": [
      "34 <class 'int'>\n",
      "56 <class 'int'>\n",
      "5 <class 'int'>\n",
      "47 <class 'int'>\n",
      "shiv <class 'str'>\n",
      "38.05 <class 'float'>\n",
      "23.48 <class 'float'>\n",
      "12 <class 'int'>\n",
      "83 <class 'int'>\n",
      "rose <class 'str'>\n"
     ]
    }
   ],
   "source": [
    "for i in l1:\n",
    "  print(i,type(i))"
   ]
  },
  {
   "cell_type": "code",
   "execution_count": 9,
   "id": "e1b00437-8f61-4d10-bc40-9e4e7e660dc1",
   "metadata": {},
   "outputs": [
    {
     "name": "stdin",
     "output_type": "stream",
     "text": [
      "enter the no. 35\n",
      "enter the no 7\n"
     ]
    }
   ],
   "source": [
    "#5\n",
    "a=int(input(\"enter the no.\"))\n",
    "b=int(input(\"enter the no\"))"
   ]
  },
  {
   "cell_type": "code",
   "execution_count": 10,
   "id": "bf1026e2-511f-4869-8855-b020240b1156",
   "metadata": {},
   "outputs": [
    {
     "name": "stdout",
     "output_type": "stream",
     "text": [
      "5\n"
     ]
    }
   ],
   "source": [
    "if a%b==0:\n",
    "   print(a//b)\n",
    "else:\n",
    "    print(\"a is not divisible by b\")"
   ]
  },
  {
   "cell_type": "code",
   "execution_count": 23,
   "id": "78a817b8-90be-4d3b-8705-349dfb0f2b0c",
   "metadata": {},
   "outputs": [],
   "source": [
    "#6\n",
    "v= [i for i in range(3,28)]"
   ]
  },
  {
   "cell_type": "code",
   "execution_count": 24,
   "id": "2cfec965-0eb8-47a9-aa77-65884a8d6a58",
   "metadata": {},
   "outputs": [
    {
     "data": {
      "text/plain": [
       "[3,\n",
       " 4,\n",
       " 5,\n",
       " 6,\n",
       " 7,\n",
       " 8,\n",
       " 9,\n",
       " 10,\n",
       " 11,\n",
       " 12,\n",
       " 13,\n",
       " 14,\n",
       " 15,\n",
       " 16,\n",
       " 17,\n",
       " 18,\n",
       " 19,\n",
       " 20,\n",
       " 21,\n",
       " 22,\n",
       " 23,\n",
       " 24,\n",
       " 25,\n",
       " 26,\n",
       " 27]"
      ]
     },
     "execution_count": 24,
     "metadata": {},
     "output_type": "execute_result"
    }
   ],
   "source": [
    "v"
   ]
  },
  {
   "cell_type": "code",
   "execution_count": 32,
   "id": "dbf0ffd1-6758-41b6-9ec4-188d019af1c9",
   "metadata": {},
   "outputs": [
    {
     "name": "stdout",
     "output_type": "stream",
     "text": [
      "i is divisible by 3\n",
      "i is not divisible by 3\n",
      "i is not divisible by 3\n",
      "i is divisible by 3\n",
      "i is not divisible by 3\n",
      "i is not divisible by 3\n",
      "i is divisible by 3\n",
      "i is not divisible by 3\n",
      "i is not divisible by 3\n",
      "i is divisible by 3\n",
      "i is not divisible by 3\n",
      "i is not divisible by 3\n",
      "i is divisible by 3\n",
      "i is not divisible by 3\n",
      "i is not divisible by 3\n",
      "i is divisible by 3\n",
      "i is not divisible by 3\n",
      "i is not divisible by 3\n",
      "i is divisible by 3\n",
      "i is not divisible by 3\n",
      "i is not divisible by 3\n",
      "i is divisible by 3\n",
      "i is not divisible by 3\n",
      "i is not divisible by 3\n",
      "i is divisible by 3\n"
     ]
    }
   ],
   "source": [
    "for i in v:\n",
    "    if i%3==0:\n",
    "        print(\"i is divisible by 3\")\n",
    "    else:\n",
    "        print(\"i is not divisible by 3\")"
   ]
  },
  {
   "cell_type": "code",
   "execution_count": 33,
   "id": "da744a3d-036b-4326-887a-acdb793a03c7",
   "metadata": {},
   "outputs": [],
   "source": [
    "#7\n",
    "#In mutable we can update the data in specific position and in immutable we cannot update data in specific position."
   ]
  },
  {
   "cell_type": "code",
   "execution_count": 35,
   "id": "b4017e5d-90ee-4492-9330-817984958ca7",
   "metadata": {},
   "outputs": [],
   "source": [
    "l1=[3,5,'fish',56]"
   ]
  },
  {
   "cell_type": "code",
   "execution_count": 36,
   "id": "06186343-a878-4f9f-b5f9-90f323b1a20e",
   "metadata": {},
   "outputs": [],
   "source": [
    "l1[2]=\"morning\""
   ]
  },
  {
   "cell_type": "code",
   "execution_count": 37,
   "id": "3712c939-7348-400e-994f-e8def8da999b",
   "metadata": {},
   "outputs": [
    {
     "data": {
      "text/plain": [
       "[3, 5, 'morning', 56]"
      ]
     },
     "execution_count": 37,
     "metadata": {},
     "output_type": "execute_result"
    }
   ],
   "source": [
    "l1"
   ]
  },
  {
   "cell_type": "code",
   "execution_count": 38,
   "id": "40727db4-3019-49c9-a1b1-3fdc659d1caa",
   "metadata": {},
   "outputs": [],
   "source": [
    "t=(4,7,67,\"sun\")"
   ]
  },
  {
   "cell_type": "code",
   "execution_count": 39,
   "id": "be9292db-e140-400e-aa65-06c22c089627",
   "metadata": {},
   "outputs": [
    {
     "ename": "TypeError",
     "evalue": "'tuple' object does not support item assignment",
     "output_type": "error",
     "traceback": [
      "\u001b[0;31m---------------------------------------------------------------------------\u001b[0m",
      "\u001b[0;31mTypeError\u001b[0m                                 Traceback (most recent call last)",
      "Cell \u001b[0;32mIn[39], line 1\u001b[0m\n\u001b[0;32m----> 1\u001b[0m \u001b[43mt\u001b[49m\u001b[43m[\u001b[49m\u001b[38;5;241;43m3\u001b[39;49m\u001b[43m]\u001b[49m\u001b[38;5;241m=\u001b[39m\u001b[38;5;124m\"\u001b[39m\u001b[38;5;124mmoon\u001b[39m\u001b[38;5;124m\"\u001b[39m\n",
      "\u001b[0;31mTypeError\u001b[0m: 'tuple' object does not support item assignment"
     ]
    }
   ],
   "source": [
    "t[3]=\"moon\""
   ]
  },
  {
   "cell_type": "code",
   "execution_count": null,
   "id": "51ed480c-a09a-4c20-ba6c-48d9a0b88fa3",
   "metadata": {},
   "outputs": [],
   "source": []
  }
 ],
 "metadata": {
  "kernelspec": {
   "display_name": "Python 3 (ipykernel)",
   "language": "python",
   "name": "python3"
  },
  "language_info": {
   "codemirror_mode": {
    "name": "ipython",
    "version": 3
   },
   "file_extension": ".py",
   "mimetype": "text/x-python",
   "name": "python",
   "nbconvert_exporter": "python",
   "pygments_lexer": "ipython3",
   "version": "3.10.8"
  }
 },
 "nbformat": 4,
 "nbformat_minor": 5
}
