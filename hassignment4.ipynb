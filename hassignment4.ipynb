{
 "cells": [
  {
   "cell_type": "code",
   "execution_count": 1,
   "id": "e70a67df-b8b1-4714-9a6f-fbce732450f0",
   "metadata": {},
   "outputs": [],
   "source": [
    "#Q1. Create a python program to sort the given list of tuples based on integer value using a lambda function.\n",
    "#[('Sachin Tendulkar', 34357), ('Ricky Ponting', 27483), ('Jack Kallis', 25534), ('Virat Kohli', 24936)]"
   ]
  },
  {
   "cell_type": "code",
   "execution_count": 1,
   "id": "a47b1632-8220-46da-a0b3-d6cbb9190e93",
   "metadata": {},
   "outputs": [],
   "source": [
    "l=[('Sachin Tendulkar', 34357), ('Ricky Ponting', 27483), ('Jack Kallis', 25534), ('Virat Kohli', 24936)]"
   ]
  },
  {
   "cell_type": "code",
   "execution_count": 2,
   "id": "c718ca65-40c5-42a0-a158-67b97ab80bf4",
   "metadata": {},
   "outputs": [],
   "source": [
    "find_sort =lambda x:(j for i in x for j in i if type (j)==int)"
   ]
  },
  {
   "cell_type": "code",
   "execution_count": 4,
   "id": "dafc2c77-5b89-44ae-8e36-aaabe0755daa",
   "metadata": {},
   "outputs": [
    {
     "data": {
      "text/plain": [
       "[34357, 27483, 25534, 24936]"
      ]
     },
     "execution_count": 4,
     "metadata": {},
     "output_type": "execute_result"
    }
   ],
   "source": [
    "list(find_sort(l))"
   ]
  },
  {
   "cell_type": "code",
   "execution_count": 24,
   "id": "d29f1b13-497e-4c55-86a7-f4e7308b5a6a",
   "metadata": {},
   "outputs": [],
   "source": [
    "#Q2. Write a Python Program to find the squares of all the numbers in the given list of integers using\n",
    "#lambda and map functions. [1, 2, 3, 4, 5, 6, 7, 8, 9, 10]"
   ]
  },
  {
   "cell_type": "code",
   "execution_count": 36,
   "id": "5bceb173-2854-4012-a728-accc1fd23ba4",
   "metadata": {},
   "outputs": [],
   "source": [
    "s= [1, 2, 3, 4, 5, 6, 7, 8, 9, 10]"
   ]
  },
  {
   "cell_type": "code",
   "execution_count": 38,
   "id": "3708ead6-fdeb-4c48-a222-d337cdbb29ed",
   "metadata": {},
   "outputs": [
    {
     "data": {
      "text/plain": [
       "[1, 4, 9, 16, 25, 36, 49, 64, 81, 100]"
      ]
     },
     "execution_count": 38,
     "metadata": {},
     "output_type": "execute_result"
    }
   ],
   "source": [
    "list(map(lambda i:i**2,s))"
   ]
  },
  {
   "cell_type": "code",
   "execution_count": 34,
   "id": "7211e170-aeff-474c-8bb4-47d1b116b39e",
   "metadata": {},
   "outputs": [],
   "source": [
    "#Q3. W.a.p in python to convert the given list of integers into a tuple of strings. Use map and lambda functions\n",
    "#Given String: [1, 2, 3, 4, 5, 6, 7, 8, 9, 10]\n",
    "#Expected output: ('1', '2', '3', '4', '5', '6', '7', '8', '9', '10')"
   ]
  },
  {
   "cell_type": "code",
   "execution_count": 3,
   "id": "7864584a-3176-4398-8ec4-d7d8799415bb",
   "metadata": {},
   "outputs": [],
   "source": [
    "l=[1, 2, 3, 4, 5, 6, 7, 8, 9, 10]"
   ]
  },
  {
   "cell_type": "code",
   "execution_count": 5,
   "id": "469747a6-d2ad-4f12-9866-87d771d42a76",
   "metadata": {},
   "outputs": [],
   "source": [
    "l1=list(map(lambda i:str(i),l))"
   ]
  },
  {
   "cell_type": "code",
   "execution_count": 7,
   "id": "24691239-c338-465c-8f78-986ba664c3fc",
   "metadata": {},
   "outputs": [
    {
     "data": {
      "text/plain": [
       "('1', '2', '3', '4', '5', '6', '7', '8', '9', '10')"
      ]
     },
     "execution_count": 7,
     "metadata": {},
     "output_type": "execute_result"
    }
   ],
   "source": [
    "tuple(l1)"
   ]
  },
  {
   "cell_type": "code",
   "execution_count": 58,
   "id": "5be42723-89d7-4ae1-960a-9011af00b2b7",
   "metadata": {},
   "outputs": [],
   "source": [
    "#Q4. W.a.p in python using reduce function to compute the product of a list containing numbers from 1 to 25."
   ]
  },
  {
   "cell_type": "code",
   "execution_count": 36,
   "id": "0615211c-dd59-4ef3-b8d1-1aff2d5b10ec",
   "metadata": {},
   "outputs": [
    {
     "name": "stdout",
     "output_type": "stream",
     "text": [
      "[1, 2, 3, 4, 5, 6, 7, 8, 9, 10, 11, 12, 13, 14, 15, 16, 17, 18, 19, 20, 21, 22, 23, 24, 25]\n"
     ]
    }
   ],
   "source": [
    "l= [i for i in range(1,26)]\n",
    "print(l)"
   ]
  },
  {
   "cell_type": "code",
   "execution_count": 34,
   "id": "0b185b66-ad00-4aa0-85f5-fbb4ac08640c",
   "metadata": {},
   "outputs": [],
   "source": [
    "from functools import reduce"
   ]
  },
  {
   "cell_type": "code",
   "execution_count": 37,
   "id": "46d9e7de-f25b-4f39-9d19-37b458ba9b3c",
   "metadata": {},
   "outputs": [
    {
     "data": {
      "text/plain": [
       "15511210043330985984000000"
      ]
     },
     "execution_count": 37,
     "metadata": {},
     "output_type": "execute_result"
    }
   ],
   "source": [
    "reduce (lambda a,b:a*b , l)"
   ]
  },
  {
   "cell_type": "code",
   "execution_count": 38,
   "id": "9bef20b3-335e-49ab-bb6d-4645f8dc28c0",
   "metadata": {},
   "outputs": [],
   "source": [
    "#Q5. W.a.p in python  to filter the numbers in a given list that are divisible by 2 and 3 using the filter function.\n",
    "# [2, 3, 6, 9, 27, 60, 90, 120, 55, 46]"
   ]
  },
  {
   "cell_type": "code",
   "execution_count": 39,
   "id": "a055e9df-b043-4471-88fd-e77440425158",
   "metadata": {},
   "outputs": [],
   "source": [
    "f=[2, 3, 6, 9, 27, 60, 90, 120, 55, 46]"
   ]
  },
  {
   "cell_type": "code",
   "execution_count": 40,
   "id": "068dd9f3-0397-4c13-b761-d93e4374c419",
   "metadata": {},
   "outputs": [
    {
     "data": {
      "text/plain": [
       "[6, 60, 90, 120]"
      ]
     },
     "execution_count": 40,
     "metadata": {},
     "output_type": "execute_result"
    }
   ],
   "source": [
    "list(filter(lambda x:x%2==0 and x%3==0,f))"
   ]
  },
  {
   "cell_type": "code",
   "execution_count": 41,
   "id": "0d7ea56a-cfb9-400e-8c54-dcb1f65b806e",
   "metadata": {},
   "outputs": [],
   "source": [
    "#Q6. Write a python program to find palindromes in the given list of strings using lambda and filter function.\n",
    "# ['python', 'php', 'aba', 'radar', 'level']"
   ]
  },
  {
   "cell_type": "code",
   "execution_count": 42,
   "id": "a7811a27-f993-43d4-b11c-d1da4a483861",
   "metadata": {},
   "outputs": [],
   "source": [
    "p=['python', 'php', 'aba', 'radar', 'level']"
   ]
  },
  {
   "cell_type": "code",
   "execution_count": 52,
   "id": "cdedd7b7-d2fb-4000-86f6-f54ecf4244cd",
   "metadata": {},
   "outputs": [
    {
     "data": {
      "text/plain": [
       "['php', 'aba', 'radar', 'level']"
      ]
     },
     "execution_count": 52,
     "metadata": {},
     "output_type": "execute_result"
    }
   ],
   "source": [
    "list (filter(lambda a:a==a[::-1],p))"
   ]
  },
  {
   "cell_type": "code",
   "execution_count": null,
   "id": "9e7d1ebf-4586-4255-9fc5-dfbd746033fc",
   "metadata": {},
   "outputs": [],
   "source": []
  }
 ],
 "metadata": {
  "kernelspec": {
   "display_name": "Python 3 (ipykernel)",
   "language": "python",
   "name": "python3"
  },
  "language_info": {
   "codemirror_mode": {
    "name": "ipython",
    "version": 3
   },
   "file_extension": ".py",
   "mimetype": "text/x-python",
   "name": "python",
   "nbconvert_exporter": "python",
   "pygments_lexer": "ipython3",
   "version": "3.10.8"
  }
 },
 "nbformat": 4,
 "nbformat_minor": 5
}
