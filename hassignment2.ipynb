{
 "cells": [
  {
   "cell_type": "code",
   "execution_count": 2,
   "id": "f6e00a27-c41b-46cc-9b7a-b2fa91c6d971",
   "metadata": {},
   "outputs": [
    {
     "data": {
      "text/plain": [
       "'single line comment \\nmultiline comments\\ndocstring'"
      ]
     },
     "execution_count": 2,
     "metadata": {},
     "output_type": "execute_result"
    }
   ],
   "source": [
    "#1\n",
    "#In python comments are of three types-\n",
    "'''single line comment \n",
    "multiline comments\n",
    "docstring'''\n",
    "#from above comments we take it as example."
   ]
  },
  {
   "cell_type": "code",
   "execution_count": 3,
   "id": "6e70adf3-8a92-4cb9-aaca-5b3e261ee373",
   "metadata": {},
   "outputs": [],
   "source": [
    "#2 In python we careate any variable at the moment and assign value to it and thereis no need to declare the data type of variable."
   ]
  },
  {
   "cell_type": "code",
   "execution_count": 4,
   "id": "ca2cd679-49f3-4485-8b12-33735cad8a6d",
   "metadata": {},
   "outputs": [],
   "source": [
    "var1=67"
   ]
  },
  {
   "cell_type": "code",
   "execution_count": 5,
   "id": "207e216e-c5b4-4c74-9a03-9d09311ca446",
   "metadata": {},
   "outputs": [],
   "source": [
    "var2=\"himani\""
   ]
  },
  {
   "cell_type": "code",
   "execution_count": 6,
   "id": "6fc3bbcc-ec80-45dd-a5d4-c5d3d6cd83a3",
   "metadata": {},
   "outputs": [],
   "source": [
    "#3\n",
    "s=('data','copy')"
   ]
  },
  {
   "cell_type": "code",
   "execution_count": 7,
   "id": "d22c6484-9477-49a5-bf6d-509941bf4d77",
   "metadata": {},
   "outputs": [
    {
     "data": {
      "text/plain": [
       "tuple"
      ]
     },
     "execution_count": 7,
     "metadata": {},
     "output_type": "execute_result"
    }
   ],
   "source": [
    "type(s)"
   ]
  },
  {
   "cell_type": "code",
   "execution_count": 10,
   "id": "fe2394b6-53a8-4383-bddb-62dc75b2e8b2",
   "metadata": {},
   "outputs": [],
   "source": [
    "s=list(s)"
   ]
  },
  {
   "cell_type": "code",
   "execution_count": 11,
   "id": "2749fe66-5f1f-45ec-933a-5baffef6e6ac",
   "metadata": {},
   "outputs": [
    {
     "data": {
      "text/plain": [
       "list"
      ]
     },
     "execution_count": 11,
     "metadata": {},
     "output_type": "execute_result"
    }
   ],
   "source": [
    "type(s)"
   ]
  },
  {
   "cell_type": "code",
   "execution_count": 12,
   "id": "bf902126-33cf-4527-bac9-c4f2c28c3812",
   "metadata": {},
   "outputs": [],
   "source": [
    "#4\n",
    "# open a command line and type the word python followed by the path of  your script file ."
   ]
  },
  {
   "cell_type": "code",
   "execution_count": 2,
   "id": "c365b52a-b746-42ea-ba87-5734745e5cd9",
   "metadata": {},
   "outputs": [
    {
     "data": {
      "text/plain": [
       "[2, 3]"
      ]
     },
     "execution_count": 2,
     "metadata": {},
     "output_type": "execute_result"
    }
   ],
   "source": [
    "#5\n",
    "my_list=[1,2,3,4,5]\n",
    "my_list[1:3]"
   ]
  },
  {
   "cell_type": "code",
   "execution_count": 3,
   "id": "e21feef2-1256-4411-8bb7-0018ca02d0f1",
   "metadata": {},
   "outputs": [],
   "source": [
    "#6\n",
    "#complex no.in mathematics is 4+3i \n",
    "#complex no.in python is 5+6j"
   ]
  },
  {
   "cell_type": "code",
   "execution_count": 7,
   "id": "b5a25788-1d8b-470d-ad1e-f8d43c8bf072",
   "metadata": {},
   "outputs": [],
   "source": [
    "#7\n",
    "age=25"
   ]
  },
  {
   "cell_type": "code",
   "execution_count": 8,
   "id": "49966ddf-62f4-4376-b008-76c6cdf7c88f",
   "metadata": {},
   "outputs": [
    {
     "data": {
      "text/plain": [
       "int"
      ]
     },
     "execution_count": 8,
     "metadata": {},
     "output_type": "execute_result"
    }
   ],
   "source": [
    "type(age)"
   ]
  },
  {
   "cell_type": "code",
   "execution_count": 9,
   "id": "95a26d5d-fc9d-4531-8c68-e47888f6392b",
   "metadata": {},
   "outputs": [],
   "source": [
    "#8\n",
    "price=9.99"
   ]
  },
  {
   "cell_type": "code",
   "execution_count": 10,
   "id": "edb18f1c-28a8-4720-a391-fc2e8e644f72",
   "metadata": {},
   "outputs": [
    {
     "data": {
      "text/plain": [
       "float"
      ]
     },
     "execution_count": 10,
     "metadata": {},
     "output_type": "execute_result"
    }
   ],
   "source": [
    "type(price)"
   ]
  },
  {
   "cell_type": "code",
   "execution_count": 11,
   "id": "c29088c7-410f-46e7-b963-181c7a6bef6b",
   "metadata": {},
   "outputs": [],
   "source": [
    "#9\n",
    "name=\"Himani Suyal\""
   ]
  },
  {
   "cell_type": "code",
   "execution_count": 14,
   "id": "5f21dfbd-9683-4085-97eb-4de6b212e905",
   "metadata": {},
   "outputs": [
    {
     "name": "stdout",
     "output_type": "stream",
     "text": [
      "Himani Suyal\n"
     ]
    }
   ],
   "source": [
    "print(name)"
   ]
  },
  {
   "cell_type": "code",
   "execution_count": 23,
   "id": "7dc8a983-cbb9-4caa-b263-484b738f69e2",
   "metadata": {},
   "outputs": [],
   "source": [
    "#10\n",
    "var=\"Hello, World!\""
   ]
  },
  {
   "cell_type": "code",
   "execution_count": 26,
   "id": "f9768eb3-84f9-4239-88a6-e007311e0034",
   "metadata": {},
   "outputs": [
    {
     "data": {
      "text/plain": [
       "'World'"
      ]
     },
     "execution_count": 26,
     "metadata": {},
     "output_type": "execute_result"
    }
   ],
   "source": [
    "var[7:12]"
   ]
  },
  {
   "cell_type": "code",
   "execution_count": 38,
   "id": "aa8bfa7e-2fee-4bd6-bf69-19b9d76e0d67",
   "metadata": {},
   "outputs": [],
   "source": [
    "#11\n",
    "is_student=False"
   ]
  },
  {
   "cell_type": "code",
   "execution_count": 30,
   "id": "358ec3fc-b9d5-4399-bc44-d0d47fee702a",
   "metadata": {},
   "outputs": [
    {
     "data": {
      "text/plain": [
       "bool"
      ]
     },
     "execution_count": 30,
     "metadata": {},
     "output_type": "execute_result"
    }
   ],
   "source": [
    "type(is_student)"
   ]
  },
  {
   "cell_type": "code",
   "execution_count": 39,
   "id": "08ee53ee-c575-4098-a81f-467c7bc125b4",
   "metadata": {},
   "outputs": [
    {
     "name": "stdout",
     "output_type": "stream",
     "text": [
      "you are currently not a student\n"
     ]
    }
   ],
   "source": [
    "if is_student==1:\n",
    "    print(\"you are currently a student\")\n",
    "else:\n",
    "    print(\"you are currently not a student\")"
   ]
  },
  {
   "cell_type": "code",
   "execution_count": null,
   "id": "3aa82ea9-a339-4b8d-bde7-0850721e562f",
   "metadata": {},
   "outputs": [],
   "source": []
  },
  {
   "cell_type": "code",
   "execution_count": null,
   "id": "84b0d47f-eb21-4cc0-99be-d38fbca75bc5",
   "metadata": {},
   "outputs": [],
   "source": []
  }
 ],
 "metadata": {
  "kernelspec": {
   "display_name": "Python 3 (ipykernel)",
   "language": "python",
   "name": "python3"
  },
  "language_info": {
   "codemirror_mode": {
    "name": "ipython",
    "version": 3
   },
   "file_extension": ".py",
   "mimetype": "text/x-python",
   "name": "python",
   "nbconvert_exporter": "python",
   "pygments_lexer": "ipython3",
   "version": "3.10.8"
  }
 },
 "nbformat": 4,
 "nbformat_minor": 5
}
